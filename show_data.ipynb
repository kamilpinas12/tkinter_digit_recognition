{
 "cells": [
  {
   "cell_type": "code",
   "execution_count": 11,
   "metadata": {},
   "outputs": [],
   "source": [
    "import numpy as np\n",
    "import pandas as pd \n",
    "import matplotlib.pyplot as plt\n",
    "\n",
    "\n",
    "data = pd.read_csv('data/data_3.csv')\n",
    "data = np.array(data)\n",
    "m, n = data.shape"
   ]
  },
  {
   "cell_type": "code",
   "execution_count": 12,
   "metadata": {},
   "outputs": [],
   "source": [
    "while True:\n",
    "    x = input(\"Podaj liczbę: \")\n",
    "    if x == '':\n",
    "          break\n",
    "    x = int(x)\n",
    "    img = data[x,1:n]\n",
    "    print(\"label: \",data[x,0])\n",
    "    img = img.reshape((28,28))/255\n",
    "\n",
    "    plt.gray()\n",
    "    plt.imshow(img, interpolation='nearest')\n",
    "    plt.show()\n",
    "\n",
    "\n",
    "    df = pd.DataFrame(img)\n",
    "\n",
    "    for i in range(int(df.shape[0])):\n",
    "                for j in range(int(df.shape[1])):\n",
    "                    if df.iloc[i, j] < 0.0:\n",
    "                        df.iloc[i, j] = ' '\n",
    "                    else:\n",
    "                        df.iloc[i, j] = '@'\n",
    "\n",
    "    df.to_csv('bitmap.csv', index=False, header=False)"
   ]
  }
 ],
 "metadata": {
  "kernelspec": {
   "display_name": "Python 3",
   "language": "python",
   "name": "python3"
  },
  "language_info": {
   "codemirror_mode": {
    "name": "ipython",
    "version": 3
   },
   "file_extension": ".py",
   "mimetype": "text/x-python",
   "name": "python",
   "nbconvert_exporter": "python",
   "pygments_lexer": "ipython3",
   "version": "3.11.4"
  }
 },
 "nbformat": 4,
 "nbformat_minor": 2
}
