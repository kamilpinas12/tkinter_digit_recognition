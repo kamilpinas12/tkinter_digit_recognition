{
 "cells": [
  {
   "cell_type": "markdown",
   "metadata": {},
   "source": [
    "My approach to train this neural network was to first pretrain NN with mnist_dataset and after that do additional training with my own data which i created using data_3\n"
   ]
  },
  {
   "cell_type": "code",
   "execution_count": 1,
   "metadata": {},
   "outputs": [],
   "source": [
    "import numpy as np\n",
    "import pandas as pd\n",
    "from nn import *\n",
    "\n",
    "nn = NN()\n",
    "nn.init_params()"
   ]
  },
  {
   "cell_type": "markdown",
   "metadata": {},
   "source": [
    "Pre-training"
   ]
  },
  {
   "cell_type": "code",
   "execution_count": 2,
   "metadata": {},
   "outputs": [],
   "source": [
    "data = pd.read_csv('mnist_dataset.csv')\n",
    "data = np.array(data)\n",
    "m, n = data.shape\n",
    "np.random.shuffle(data)\n",
    "\n",
    "data_dev = data[0:1000].T\n",
    "Y_dev = data_dev[0]\n",
    "X_dev = data_dev[1:n]\n",
    "X_dev = X_dev / 255.\n",
    "\n",
    "data_train = data[1000:m].T\n",
    "Y_train = data_train[0]\n",
    "X_train = data_train[1:n]\n",
    "X_train = X_train / 255.\n",
    "\n",
    "X_train = np.where(X_train > 0.85, 1, 0)\n",
    "X_Dev = np.where(X_dev > 0.85, 1, 0)"
   ]
  },
  {
   "cell_type": "code",
   "execution_count": 3,
   "metadata": {},
   "outputs": [
    {
     "name": "stdout",
     "output_type": "stream",
     "text": [
      "Iteration:  10\n",
      "0.8928780487804878\n",
      "alfa:  0.1\n",
      "Iteration:  20\n",
      "0.9233902439024391\n",
      "alfa:  0.08235294117647059\n",
      "Iteration:  30\n",
      "0.9356341463414635\n",
      "alfa:  0.06470588235294117\n",
      "Iteration:  40\n",
      "0.9424878048780487\n",
      "alfa:  0.047058823529411764\n",
      "Iteration:  50\n",
      "0.9449756097560975\n",
      "alfa:  0.029411764705882346\n"
     ]
    },
    {
     "data": {
      "text/plain": [
       "0.936"
      ]
     },
     "execution_count": 3,
     "metadata": {},
     "output_type": "execute_result"
    }
   ],
   "source": [
    "nn.train(X_train,Y_train, 0.1, 0.01, 50, 300)\n",
    "nn.save_params()\n",
    "\n",
    "pred = nn.make_predictions(X_dev)\n",
    "get_accuracy(pred, Y_dev)"
   ]
  },
  {
   "cell_type": "markdown",
   "metadata": {},
   "source": [
    "Additional training"
   ]
  },
  {
   "cell_type": "code",
   "execution_count": 4,
   "metadata": {},
   "outputs": [
    {
     "name": "stdout",
     "output_type": "stream",
     "text": [
      "(1276, 785)\n",
      "(784, 1084) (1084,)\n",
      "(784, 192) (192,)\n",
      "Accuracy after pre-training on data from tkinter:\n",
      " 0.5625 \n",
      "\n",
      "\n"
     ]
    }
   ],
   "source": [
    "data = pd.read_csv('data_3.csv')\n",
    "data = np.array(data)\n",
    "np.random.shuffle(data)\n",
    "print(data.shape)\n",
    "m = data.shape[0]\n",
    "\n",
    "\n",
    "data_train = data[0:int(0.85*m), :]\n",
    "data_dev = data[int(0.85*m):m, :]\n",
    "\n",
    "X_train = data_train[:, 1:785].T\n",
    "Y_train = data_train[:, 0].astype(int)\n",
    "print(X_train.shape, Y_train.shape)\n",
    "\n",
    "X_dev = data_dev[:, 1:785].T\n",
    "Y_dev = data_dev[:, 0].astype(int)\n",
    "print(X_dev.shape, Y_dev.shape)\n",
    "\n",
    "pred = nn.make_predictions(X_dev)\n",
    "print('Accuracy after pre-training on data from tkinter:\\n', get_accuracy(pred, Y_dev), '\\n\\n')"
   ]
  },
  {
   "cell_type": "code",
   "execution_count": 5,
   "metadata": {},
   "outputs": [
    {
     "name": "stdout",
     "output_type": "stream",
     "text": [
      "Accuracy after pre-training training:\n",
      " 0.5625 \n",
      "\n",
      "\n",
      "Iteration:  10\n",
      "1.0\n",
      "alfa:  0.1\n",
      "\n",
      "\n",
      "Final accuracy on data from tkinter:\n",
      " 0.9635416666666666\n"
     ]
    }
   ],
   "source": [
    "pred = nn.make_predictions(X_dev)\n",
    "print('Accuracy after pre-training training:\\n', get_accuracy(pred, Y_dev), '\\n\\n')\n",
    "\n",
    "nn.train(X_train, Y_train, 0.1, 0.01, 10, 30)\n",
    "\n",
    "nn.save_params()\n",
    "\n",
    "pred = nn.make_predictions(X_dev)\n",
    "print('\\n\\nFinal accuracy on data from tkinter:\\n', get_accuracy(pred, Y_dev))"
   ]
  }
 ],
 "metadata": {
  "kernelspec": {
   "display_name": "Python 3",
   "language": "python",
   "name": "python3"
  },
  "language_info": {
   "codemirror_mode": {
    "name": "ipython",
    "version": 3
   },
   "file_extension": ".py",
   "mimetype": "text/x-python",
   "name": "python",
   "nbconvert_exporter": "python",
   "pygments_lexer": "ipython3",
   "version": "3.11.4"
  }
 },
 "nbformat": 4,
 "nbformat_minor": 2
}
