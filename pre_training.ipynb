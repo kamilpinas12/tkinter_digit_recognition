{
 "cells": [
  {
   "cell_type": "code",
   "execution_count": 8,
   "metadata": {},
   "outputs": [
    {
     "name": "stdout",
     "output_type": "stream",
     "text": [
      "Iteration:  10\n",
      "0.9152439024390244\n",
      "alfa:  0.1\n",
      "Iteration:  20\n",
      "0.9367073170731708\n",
      "alfa:  0.08888888888888889\n",
      "Iteration:  30\n",
      "0.9445853658536585\n",
      "alfa:  0.07777777777777778\n",
      "Iteration:  40\n",
      "0.9524634146341463\n",
      "alfa:  0.06666666666666667\n",
      "Iteration:  50\n",
      "0.9561219512195122\n",
      "alfa:  0.05555555555555555\n",
      "Iteration:  60\n",
      "0.9578780487804878\n",
      "alfa:  0.04444444444444444\n",
      "Iteration:  70\n",
      "0.9602195121951219\n",
      "alfa:  0.033333333333333326\n",
      "Iteration:  80\n",
      "0.9612926829268292\n",
      "alfa:  0.022222222222222213\n"
     ]
    }
   ],
   "source": [
    "import numpy as np\n",
    "import pandas as pd\n",
    "from nn import *\n",
    "\n",
    "data = pd.read_csv('train.csv')\n",
    "data = np.array(data)\n",
    "m, n = data.shape\n",
    "np.random.shuffle(data)\n",
    "\n",
    "\n",
    "\n",
    "data_dev = data[0:1000].T\n",
    "Y_dev = data_dev[0]\n",
    "X_dev = data_dev[1:n]\n",
    "X_dev = X_dev / 255.\n",
    "\n",
    "data_train = data[1000:m].T\n",
    "Y_train = data_train[0]\n",
    "X_train = data_train[1:n]\n",
    "X_train = X_train / 255.\n",
    "\n",
    "#X_train = np.where(X_train > 0.85, 1, 0)\n",
    "#X_Dev = np.where(X_dev > 0.85, 1, 0)\n",
    "\n",
    "\n",
    "\n",
    "nn = NN()\n",
    "nn.init_params()\n",
    "nn.train(X_train,Y_train, 0.1, 0.01, 80, 300)\n",
    "nn.save_params()\n",
    "\n"
   ]
  },
  {
   "cell_type": "code",
   "execution_count": 9,
   "metadata": {},
   "outputs": [
    {
     "data": {
      "text/plain": [
       "0.926"
      ]
     },
     "execution_count": 9,
     "metadata": {},
     "output_type": "execute_result"
    }
   ],
   "source": [
    "pred = nn.make_predictions(X_dev)\n",
    "get_accuracy(pred, Y_dev)"
   ]
  }
 ],
 "metadata": {
  "kernelspec": {
   "display_name": "Python 3",
   "language": "python",
   "name": "python3"
  },
  "language_info": {
   "codemirror_mode": {
    "name": "ipython",
    "version": 3
   },
   "file_extension": ".py",
   "mimetype": "text/x-python",
   "name": "python",
   "nbconvert_exporter": "python",
   "pygments_lexer": "ipython3",
   "version": "3.11.4"
  }
 },
 "nbformat": 4,
 "nbformat_minor": 2
}
