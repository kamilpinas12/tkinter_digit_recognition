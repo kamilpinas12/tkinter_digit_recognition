{
 "cells": [
  {
   "cell_type": "code",
   "execution_count": 20,
   "metadata": {},
   "outputs": [
    {
     "name": "stdout",
     "output_type": "stream",
     "text": [
      "Iteration:  10\n",
      "0.8767073170731707\n",
      "alfa:  0.1\n",
      "Iteration:  20\n",
      "0.9035609756097561\n",
      "alfa:  0.08235294117647059\n",
      "Iteration:  30\n",
      "0.9179024390243903\n",
      "alfa:  0.06470588235294117\n",
      "Iteration:  40\n",
      "0.9265365853658537\n",
      "alfa:  0.047058823529411764\n",
      "Iteration:  50\n",
      "0.9305365853658537\n",
      "alfa:  0.029411764705882346\n"
     ]
    },
    {
     "data": {
      "text/plain": [
       "0.935"
      ]
     },
     "execution_count": 20,
     "metadata": {},
     "output_type": "execute_result"
    }
   ],
   "source": [
    "import numpy as np\n",
    "import pandas as pd\n",
    "from nn import *\n",
    "\n",
    "data = pd.read_csv('train.csv')\n",
    "data = np.array(data)\n",
    "m, n = data.shape\n",
    "np.random.shuffle(data)\n",
    "\n",
    "\n",
    "\n",
    "data_dev = data[0:1000].T\n",
    "Y_dev = data_dev[0]\n",
    "X_dev = data_dev[1:n]\n",
    "X_dev = X_dev / 255.\n",
    "\n",
    "data_train = data[1000:m].T\n",
    "Y_train = data_train[0]\n",
    "X_train = data_train[1:n]\n",
    "X_train = X_train / 255.\n",
    "\n",
    "X_train = np.where(X_train > 0.85, 1, 0)\n",
    "X_Dev = np.where(X_dev > 0.85, 1, 0)\n",
    "\n",
    "\n",
    "\n",
    "nn = NN()\n",
    "nn.init_params()\n",
    "nn.train(X_train,Y_train, 0.1, 0.01, 50, 300)\n",
    "nn.save_params()\n",
    "\n",
    "pred = nn.make_predictions(X_dev)\n",
    "get_accuracy(pred, Y_dev)\n"
   ]
  },
  {
   "cell_type": "code",
   "execution_count": 17,
   "metadata": {},
   "outputs": [
    {
     "data": {
      "text/plain": [
       "0.929"
      ]
     },
     "execution_count": 17,
     "metadata": {},
     "output_type": "execute_result"
    }
   ],
   "source": [
    "pred = nn.make_predictions(X_dev)\n",
    "get_accuracy(pred, Y_dev)"
   ]
  }
 ],
 "metadata": {
  "kernelspec": {
   "display_name": "Python 3",
   "language": "python",
   "name": "python3"
  },
  "language_info": {
   "codemirror_mode": {
    "name": "ipython",
    "version": 3
   },
   "file_extension": ".py",
   "mimetype": "text/x-python",
   "name": "python",
   "nbconvert_exporter": "python",
   "pygments_lexer": "ipython3",
   "version": "3.11.4"
  }
 },
 "nbformat": 4,
 "nbformat_minor": 2
}
