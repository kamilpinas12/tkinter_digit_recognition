{
 "cells": [
  {
   "cell_type": "code",
   "execution_count": 48,
   "metadata": {},
   "outputs": [
    {
     "name": "stdout",
     "output_type": "stream",
     "text": [
      "(812, 785)\n",
      "(784, 730) (730,)\n",
      "(784, 82) (82,)\n"
     ]
    }
   ],
   "source": [
    "import numpy as np\n",
    "import pandas as pd\n",
    "from nn import *\n",
    "\n",
    "\n",
    "data = pd.read_csv('data_2.csv')\n",
    "data = np.array(data)\n",
    "np.random.shuffle(data)\n",
    "print(data.shape)\n",
    "m = data.shape[0]\n",
    "\n",
    "data_train = data[0:int(0.9*m), :]\n",
    "data_dev = data[int(0.9*m):m, :]\n",
    "\n",
    "X_train = data_train[:, 1:785].T\n",
    "Y_train = data_train[:, 0].astype(int)\n",
    "print(X_train.shape, Y_train.shape)\n",
    "\n",
    "X_dev = data_dev[:, 1:785].T\n",
    "Y_dev = data_dev[:, 0].astype(int)\n",
    "print(X_dev.shape, Y_dev.shape)\n",
    "\n",
    "\n"
   ]
  },
  {
   "cell_type": "code",
   "execution_count": 50,
   "metadata": {},
   "outputs": [
    {
     "name": "stdout",
     "output_type": "stream",
     "text": [
      "Iteration:  10\n",
      "0.9972602739726028\n",
      "alfa:  0.1\n",
      "Iteration:  20\n",
      "0.9972602739726028\n",
      "alfa:  0.05714285714285715\n"
     ]
    },
    {
     "data": {
      "text/plain": [
       "0.9146341463414634"
      ]
     },
     "execution_count": 50,
     "metadata": {},
     "output_type": "execute_result"
    }
   ],
   "source": [
    "nn = NN()\n",
    "nn.train(X_train, Y_train, 0.1, 0.01, 20, 20)\n",
    "\n",
    "nn.save_params()\n",
    "pred = nn.make_predictions(X_dev)\n",
    "get_accuracy(pred, Y_dev)"
   ]
  }
 ],
 "metadata": {
  "kernelspec": {
   "display_name": "Python 3",
   "language": "python",
   "name": "python3"
  },
  "language_info": {
   "codemirror_mode": {
    "name": "ipython",
    "version": 3
   },
   "file_extension": ".py",
   "mimetype": "text/x-python",
   "name": "python",
   "nbconvert_exporter": "python",
   "pygments_lexer": "ipython3",
   "version": "3.11.4"
  }
 },
 "nbformat": 4,
 "nbformat_minor": 2
}
