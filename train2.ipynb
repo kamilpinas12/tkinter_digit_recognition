{
 "cells": [
  {
   "cell_type": "code",
   "execution_count": 11,
   "metadata": {},
   "outputs": [
    {
     "name": "stdout",
     "output_type": "stream",
     "text": [
      "(376, 785)\n",
      "(784, 338) (338,)\n",
      "(784, 38) (38,)\n",
      "Accuracy after pre-training training:\n",
      " 0.6052631578947368 \n",
      "\n",
      "\n"
     ]
    }
   ],
   "source": [
    "import numpy as np\n",
    "import pandas as pd\n",
    "from nn import *\n",
    "\n",
    "\n",
    "data = pd.read_csv('data_3.csv')\n",
    "data = np.array(data)\n",
    "np.random.shuffle(data)\n",
    "print(data.shape)\n",
    "m = data.shape[0]\n",
    "\n",
    "data_train = data[0:int(0.9*m), :]\n",
    "data_dev = data[int(0.9*m):m, :]\n",
    "\n",
    "X_train = data_train[:, 1:785].T\n",
    "Y_train = data_train[:, 0].astype(int)\n",
    "print(X_train.shape, Y_train.shape)\n",
    "\n",
    "X_dev = data_dev[:, 1:785].T\n",
    "Y_dev = data_dev[:, 0].astype(int)\n",
    "print(X_dev.shape, Y_dev.shape)\n",
    "\n",
    "nn = NN()\n",
    "\n",
    "pred = nn.make_predictions(X_dev)\n",
    "print('Accuracy after pre-training training:\\n', get_accuracy(pred, Y_dev), '\\n\\n')\n"
   ]
  },
  {
   "cell_type": "code",
   "execution_count": 12,
   "metadata": {},
   "outputs": [
    {
     "name": "stdout",
     "output_type": "stream",
     "text": [
      "Accuracy after pre-training training:\n",
      " 0.6052631578947368 \n",
      "\n",
      "\n",
      "Iteration:  10\n",
      "1.0\n",
      "alfa:  0.1\n",
      "Iteration:  20\n",
      "1.0\n",
      "alfa:  0.07804878048780488\n",
      "Iteration:  30\n",
      "1.0\n",
      "alfa:  0.05609756097560976\n",
      "Iteration:  40\n",
      "1.0\n",
      "alfa:  0.03414634146341464\n",
      "\n",
      "\n",
      "Accuracy after additional training:\n",
      " 0.9736842105263158\n"
     ]
    }
   ],
   "source": [
    "nn = NN()\n",
    "pred = nn.make_predictions(X_dev)\n",
    "print('Accuracy after pre-training training:\\n', get_accuracy(pred, Y_dev), '\\n\\n')\n",
    "\n",
    "nn.train(X_train, Y_train, 0.1, 0.01, 40, 20)\n",
    "\n",
    "nn.save_params()\n",
    "\n",
    "pred = nn.make_predictions(X_dev)\n",
    "print('\\n\\nAccuracy after additional training:\\n', get_accuracy(pred, Y_dev))"
   ]
  }
 ],
 "metadata": {
  "kernelspec": {
   "display_name": "Python 3",
   "language": "python",
   "name": "python3"
  },
  "language_info": {
   "codemirror_mode": {
    "name": "ipython",
    "version": 3
   },
   "file_extension": ".py",
   "mimetype": "text/x-python",
   "name": "python",
   "nbconvert_exporter": "python",
   "pygments_lexer": "ipython3",
   "version": "3.11.4"
  }
 },
 "nbformat": 4,
 "nbformat_minor": 2
}
