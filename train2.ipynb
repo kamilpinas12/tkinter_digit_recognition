{
 "cells": [
  {
   "cell_type": "code",
   "execution_count": 15,
   "metadata": {},
   "outputs": [
    {
     "name": "stdout",
     "output_type": "stream",
     "text": [
      "(1276, 785)\n",
      "(784, 1084) (1084,)\n",
      "(784, 192) (192,)\n",
      "Accuracy after pre-training training:\n",
      " 0.6041666666666666 \n",
      "\n",
      "\n"
     ]
    }
   ],
   "source": [
    "import numpy as np\n",
    "import pandas as pd\n",
    "from nn import *\n",
    "\n",
    "\n",
    "data = pd.read_csv('data_3.csv')\n",
    "data = np.array(data)\n",
    "np.random.shuffle(data)\n",
    "print(data.shape)\n",
    "m = data.shape[0]\n",
    "\n",
    "data_train = data[0:int(0.85*m), :]\n",
    "data_dev = data[int(0.85*m):m, :]\n",
    "\n",
    "X_train = data_train[:, 1:785].T\n",
    "Y_train = data_train[:, 0].astype(int)\n",
    "print(X_train.shape, Y_train.shape)\n",
    "\n",
    "X_dev = data_dev[:, 1:785].T\n",
    "Y_dev = data_dev[:, 0].astype(int)\n",
    "print(X_dev.shape, Y_dev.shape)\n",
    "\n",
    "nn = NN()\n",
    "\n",
    "pred = nn.make_predictions(X_dev)\n",
    "print('Accuracy after pre-training training:\\n', get_accuracy(pred, Y_dev), '\\n\\n')\n"
   ]
  },
  {
   "cell_type": "code",
   "execution_count": 16,
   "metadata": {},
   "outputs": [
    {
     "name": "stdout",
     "output_type": "stream",
     "text": [
      "Accuracy after pre-training training:\n",
      " 0.6041666666666666 \n",
      "\n",
      "\n",
      "Iteration:  10\n",
      "0.9981549815498155\n",
      "alfa:  0.1\n",
      "Iteration:  20\n",
      "0.9990774907749077\n",
      "alfa:  0.09108910891089109\n",
      "Iteration:  30\n",
      "0.9990774907749077\n",
      "alfa:  0.08217821782178218\n",
      "Iteration:  40\n",
      "0.9990774907749077\n",
      "alfa:  0.07326732673267328\n",
      "Iteration:  50\n",
      "0.9990774907749077\n",
      "alfa:  0.06435643564356436\n",
      "Iteration:  60\n",
      "0.9990774907749077\n",
      "alfa:  0.055445544554455446\n",
      "Iteration:  70\n",
      "1.0\n",
      "alfa:  0.046534653465346534\n",
      "Iteration:  80\n",
      "1.0\n",
      "alfa:  0.03762376237623762\n",
      "Iteration:  90\n",
      "1.0\n",
      "alfa:  0.02871287128712871\n",
      "Iteration:  100\n",
      "1.0\n",
      "alfa:  0.019801980198019792\n",
      "\n",
      "\n",
      "Accuracy after additional training:\n",
      " 0.9791666666666666\n"
     ]
    }
   ],
   "source": [
    "nn = NN()\n",
    "pred = nn.make_predictions(X_dev)\n",
    "print('Accuracy after pre-training training:\\n', get_accuracy(pred, Y_dev), '\\n\\n')\n",
    "\n",
    "nn.train(X_train, Y_train, 0.1, 0.01, 100, 30)\n",
    "\n",
    "nn.save_params()\n",
    "\n",
    "pred = nn.make_predictions(X_dev)\n",
    "print('\\n\\nAccuracy after additional training:\\n', get_accuracy(pred, Y_dev))"
   ]
  },
  {
   "cell_type": "code",
   "execution_count": 34,
   "metadata": {},
   "outputs": [],
   "source": [
    "nn.save_params()"
   ]
  }
 ],
 "metadata": {
  "kernelspec": {
   "display_name": "Python 3",
   "language": "python",
   "name": "python3"
  },
  "language_info": {
   "codemirror_mode": {
    "name": "ipython",
    "version": 3
   },
   "file_extension": ".py",
   "mimetype": "text/x-python",
   "name": "python",
   "nbconvert_exporter": "python",
   "pygments_lexer": "ipython3",
   "version": "3.11.4"
  }
 },
 "nbformat": 4,
 "nbformat_minor": 2
}
